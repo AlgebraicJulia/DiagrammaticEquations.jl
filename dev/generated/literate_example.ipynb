{
 "cells": [
  {
   "cell_type": "markdown",
   "source": [
    "# Code Example"
   ],
   "metadata": {}
  },
  {
   "outputs": [],
   "cell_type": "code",
   "source": [
    "using DiagrammaticEquations"
   ],
   "metadata": {},
   "execution_count": 1
  }
 ],
 "nbformat_minor": 3,
 "metadata": {
  "language_info": {
   "file_extension": ".jl",
   "mimetype": "application/julia",
   "name": "julia",
   "version": "1.9.4"
  },
  "kernelspec": {
   "name": "julia-1.9",
   "display_name": "Julia 1.9.4",
   "language": "julia"
  }
 },
 "nbformat": 4
}
